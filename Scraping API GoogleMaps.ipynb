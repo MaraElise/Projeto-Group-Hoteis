{
 "cells": [
  {
   "cell_type": "code",
   "execution_count": 14,
   "metadata": {},
   "outputs": [],
   "source": [
    "import googlemaps\n",
    "from datetime import datetime\n",
    "import pandas as pd\n",
    "from dotenv import load_dotenv \n",
    "import os\n",
    "import requests\n"
   ]
  },
  {
   "cell_type": "code",
   "execution_count": 15,
   "metadata": {},
   "outputs": [],
   "source": [
    "load_dotenv('credentials.env')\n",
    "apikey = os.getenv('API_KEY')"
   ]
  },
  {
   "cell_type": "code",
   "execution_count": 16,
   "metadata": {},
   "outputs": [],
   "source": [
    "gmaps = googlemaps.Client(key=apikey)"
   ]
  },
  {
   "cell_type": "code",
   "execution_count": 17,
   "metadata": {},
   "outputs": [],
   "source": [
    "bairros =[\"Centro de Florianópolis, Florianópolis\", \"Lagoa da Conceição, Florianópolis\",\"Canasvieiras, Florianópolis\",\"Jurerê, Florianópolis\",\"Campeche, Florianópolis\",\"Bairro Savassi, Belo Horizonte\", \"Bairro Lourdes, Belo Horizonte\", \"Bairro Funcionários, Belo Horizonte\",\"Bairro Pampulha, Belo Horizonte\",\"Centro de Belo Horizonte\",\"Bairro Jardim Oceânico, Rio de Janeiro\",\"Bairro Lapa, Rio de Janeiro\",\"Bairro Copacabana, Rio de Janeiro\",\"Bairro Leblon, Rio de Janeiro\",\"Bairro Ipanema , Rio de Janeiro\",\"Bela Vista, Porto Alegre\",\"Jardim Botânico, Porto Alegre\",'Centro Historico , Porto Alegre','Moinhos de Vento , Porto Alegre',\"Cidade Baixa , Porto Alegre\",\"Bairro Santa Felicidade,Curitiba\",\"Bairro Mercês, Curitiba\",\"Bairro Batel , Curitiba\",\"Bairro Centro Historico, Curitiba\",\"Bairro Centro Civico, Curitiba\",\"Bairro Vila Madalena, São Paulo\", \"Paulista, São Paulo\",\"Bairro Pinheiros, São Paulo\", \"Bairro Centro, São Paulo\", \"Ibirapuera, São Paulo\"]"
   ]
  },
  {
   "cell_type": "code",
   "execution_count": 18,
   "metadata": {},
   "outputs": [],
   "source": [
    "\n",
    "result={}\n",
    "\n",
    "\n",
    "for i in bairros:\n",
    "    result2=gmaps.geocode(i)\n",
    "    result.update({i:result2})\n",
    "\n",
    "    \n",
    "    \n",
    "    \n",
    "        "
   ]
  },
  {
   "cell_type": "code",
   "execution_count": 19,
   "metadata": {},
   "outputs": [
    {
     "data": {
      "text/plain": [
       "dict_keys(['Centro de Florianópolis, Florianópolis', 'Lagoa da Conceição, Florianópolis', 'Canasvieiras, Florianópolis', 'Jurerê, Florianópolis', 'Campeche, Florianópolis', 'Bairro Savassi, Belo Horizonte', 'Bairro Lourdes, Belo Horizonte', 'Bairro Funcionários, Belo Horizonte', 'Bairro Pampulha, Belo Horizonte', 'Centro de Belo Horizonte', 'Bairro Jardim Oceânico, Rio de Janeiro', 'Bairro Lapa, Rio de Janeiro', 'Bairro Copacabana, Rio de Janeiro', 'Bairro Leblon, Rio de Janeiro', 'Bairro Ipanema , Rio de Janeiro', 'Bela Vista, Porto Alegre', 'Jardim Botânico, Porto Alegre', 'Centro Historico , Porto Alegre', 'Moinhos de Vento , Porto Alegre', 'Cidade Baixa , Porto Alegre', 'Bairro Santa Felicidade,Curitiba', 'Bairro Mercês, Curitiba', 'Bairro Batel , Curitiba', 'Bairro Centro Historico, Curitiba', 'Bairro Centro Civico, Curitiba', 'Bairro Vila Madalena, São Paulo', 'Paulista, São Paulo', 'Bairro Pinheiros, São Paulo', 'Bairro Centro, São Paulo', 'Ibirapuera, São Paulo'])"
      ]
     },
     "execution_count": 19,
     "metadata": {},
     "output_type": "execute_result"
    }
   ],
   "source": [
    "result.keys()"
   ]
  },
  {
   "cell_type": "code",
   "execution_count": 20,
   "metadata": {},
   "outputs": [
    {
     "name": "stdout",
     "output_type": "stream",
     "text": [
      "{'Centro de Florianópolis, Florianópolis': {'lat': -27.5980115, 'lng': -48.5497023}, 'Lagoa da Conceição, Florianópolis': {'lat': -27.603092, 'lng': -48.4712296}, 'Canasvieiras, Florianópolis': {'lat': -27.4322575, 'lng': -48.4582115}, 'Jurerê, Florianópolis': {'lat': -27.4535435, 'lng': -48.5112213}, 'Campeche, Florianópolis': {'lat': -27.676062, 'lng': -48.4862231}, 'Bairro Savassi, Belo Horizonte': {'lat': -19.936238, 'lng': -43.9322763}, 'Bairro Lourdes, Belo Horizonte': {'lat': -19.9294637, 'lng': -43.9442359}, 'Bairro Funcionários, Belo Horizonte': {'lat': -19.9308246, 'lng': -43.9280307}, 'Bairro Pampulha, Belo Horizonte': {'lat': -19.8527226, 'lng': -43.9559969}, 'Centro de Belo Horizonte': {'lat': -19.919168, 'lng': -43.9386558}, 'Bairro Jardim Oceânico, Rio de Janeiro': {'lat': -23.0110064, 'lng': -43.3091914}, 'Bairro Lapa, Rio de Janeiro': {'lat': -22.9136977, 'lng': -43.1787502}, 'Bairro Copacabana, Rio de Janeiro': {'lat': -22.9694417, 'lng': -43.1868448}, 'Bairro Leblon, Rio de Janeiro': {'lat': -22.9843373, 'lng': -43.2231424}, 'Bairro Ipanema , Rio de Janeiro': {'lat': -22.984667, 'lng': -43.1985932}, 'Bela Vista, Porto Alegre': {'lat': -30.0357365, 'lng': -51.1916907}, 'Jardim Botânico, Porto Alegre': {'lat': -30.0534827, 'lng': -51.1885296}, 'Centro Historico , Porto Alegre': {'lat': -30.0308043, 'lng': -51.2278242}, 'Moinhos de Vento , Porto Alegre': {'lat': -30.02456489999999, 'lng': -51.2008119}, 'Cidade Baixa , Porto Alegre': {'lat': -30.0401669, 'lng': -51.2228614}, 'Bairro Santa Felicidade,Curitiba': {'lat': -25.4007209, 'lng': -49.33447280000001}, 'Bairro Mercês, Curitiba': {'lat': -25.4220935, 'lng': -49.2918835}, 'Bairro Batel , Curitiba': {'lat': -25.4432789, 'lng': -49.2849756}, 'Bairro Centro Historico, Curitiba': {'lat': -25.4278168, 'lng': -49.272201}, 'Bairro Centro Civico, Curitiba': {'lat': -25.4175207, 'lng': -49.268557}, 'Bairro Vila Madalena, São Paulo': {'lat': -23.5514369, 'lng': -46.6975656}, 'Paulista, São Paulo': {'lat': -23.5613545, 'lng': -46.6564943}, 'Bairro Pinheiros, São Paulo': {'lat': -23.5635787, 'lng': -46.6916068}, 'Bairro Centro, São Paulo': {'lat': -23.5406338, 'lng': -46.6320967}, 'Ibirapuera, São Paulo': {'lat': -23.5836023, 'lng': -46.6644988}}\n"
     ]
    }
   ],
   "source": [
    "dado1={}\n",
    "for key in result:\n",
    "    dado1.update({key:result[key][0]['geometry']['location']})\n",
    "print(dado1)\n",
    "  \n",
    "    "
   ]
  },
  {
   "cell_type": "code",
   "execution_count": 35,
   "metadata": {},
   "outputs": [],
   "source": [
    "latlong = pd.DataFrame(dado1).T\n",
    "latlong\n",
    "latlong.to_csv(\"latlong.csv\")"
   ]
  },
  {
   "cell_type": "code",
   "execution_count": 21,
   "metadata": {},
   "outputs": [
    {
     "name": "stdout",
     "output_type": "stream",
     "text": [
      "{'Centro de Florianópolis, Florianópolis': [-27.5980115, -48.5497023], 'Lagoa da Conceição, Florianópolis': [-27.603092, -48.4712296], 'Canasvieiras, Florianópolis': [-27.4322575, -48.4582115], 'Jurerê, Florianópolis': [-27.4535435, -48.5112213], 'Campeche, Florianópolis': [-27.676062, -48.4862231], 'Bairro Savassi, Belo Horizonte': [-19.936238, -43.9322763], 'Bairro Lourdes, Belo Horizonte': [-19.9294637, -43.9442359], 'Bairro Funcionários, Belo Horizonte': [-19.9308246, -43.9280307], 'Bairro Pampulha, Belo Horizonte': [-19.8527226, -43.9559969], 'Centro de Belo Horizonte': [-19.919168, -43.9386558], 'Bairro Jardim Oceânico, Rio de Janeiro': [-23.0110064, -43.3091914], 'Bairro Lapa, Rio de Janeiro': [-22.9136977, -43.1787502], 'Bairro Copacabana, Rio de Janeiro': [-22.9694417, -43.1868448], 'Bairro Leblon, Rio de Janeiro': [-22.9843373, -43.2231424], 'Bairro Ipanema , Rio de Janeiro': [-22.984667, -43.1985932], 'Bela Vista, Porto Alegre': [-30.0357365, -51.1916907], 'Jardim Botânico, Porto Alegre': [-30.0534827, -51.1885296], 'Centro Historico , Porto Alegre': [-30.0308043, -51.2278242], 'Moinhos de Vento , Porto Alegre': [-30.02456489999999, -51.2008119], 'Cidade Baixa , Porto Alegre': [-30.0401669, -51.2228614], 'Bairro Santa Felicidade,Curitiba': [-25.4007209, -49.33447280000001], 'Bairro Mercês, Curitiba': [-25.4220935, -49.2918835], 'Bairro Batel , Curitiba': [-25.4432789, -49.2849756], 'Bairro Centro Historico, Curitiba': [-25.4278168, -49.272201], 'Bairro Centro Civico, Curitiba': [-25.4175207, -49.268557], 'Bairro Vila Madalena, São Paulo': [-23.5514369, -46.6975656], 'Paulista, São Paulo': [-23.5613545, -46.6564943], 'Bairro Pinheiros, São Paulo': [-23.5635787, -46.6916068], 'Bairro Centro, São Paulo': [-23.5406338, -46.6320967], 'Ibirapuera, São Paulo': [-23.5836023, -46.6644988]}\n"
     ]
    }
   ],
   "source": [
    "dado2={}\n",
    "for key in dado1:\n",
    "    dado2.update({key:[dado1[key]['lat'],dado1[key]['lng']]})\n",
    "print(dado2)"
   ]
  },
  {
   "cell_type": "code",
   "execution_count": 22,
   "metadata": {},
   "outputs": [
    {
     "data": {
      "text/plain": [
       "{'Centro de Florianópolis, Florianópolis': [-27.5980115, -48.5497023],\n",
       " 'Lagoa da Conceição, Florianópolis': [-27.603092, -48.4712296],\n",
       " 'Canasvieiras, Florianópolis': [-27.4322575, -48.4582115],\n",
       " 'Jurerê, Florianópolis': [-27.4535435, -48.5112213],\n",
       " 'Campeche, Florianópolis': [-27.676062, -48.4862231],\n",
       " 'Bairro Savassi, Belo Horizonte': [-19.936238, -43.9322763],\n",
       " 'Bairro Lourdes, Belo Horizonte': [-19.9294637, -43.9442359],\n",
       " 'Bairro Funcionários, Belo Horizonte': [-19.9308246, -43.9280307],\n",
       " 'Bairro Pampulha, Belo Horizonte': [-19.8527226, -43.9559969],\n",
       " 'Centro de Belo Horizonte': [-19.919168, -43.9386558],\n",
       " 'Bairro Jardim Oceânico, Rio de Janeiro': [-23.0110064, -43.3091914],\n",
       " 'Bairro Lapa, Rio de Janeiro': [-22.9136977, -43.1787502],\n",
       " 'Bairro Copacabana, Rio de Janeiro': [-22.9694417, -43.1868448],\n",
       " 'Bairro Leblon, Rio de Janeiro': [-22.9843373, -43.2231424],\n",
       " 'Bairro Ipanema , Rio de Janeiro': [-22.984667, -43.1985932],\n",
       " 'Bela Vista, Porto Alegre': [-30.0357365, -51.1916907],\n",
       " 'Jardim Botânico, Porto Alegre': [-30.0534827, -51.1885296],\n",
       " 'Centro Historico , Porto Alegre': [-30.0308043, -51.2278242],\n",
       " 'Moinhos de Vento , Porto Alegre': [-30.02456489999999, -51.2008119],\n",
       " 'Cidade Baixa , Porto Alegre': [-30.0401669, -51.2228614],\n",
       " 'Bairro Santa Felicidade,Curitiba': [-25.4007209, -49.33447280000001],\n",
       " 'Bairro Mercês, Curitiba': [-25.4220935, -49.2918835],\n",
       " 'Bairro Batel , Curitiba': [-25.4432789, -49.2849756],\n",
       " 'Bairro Centro Historico, Curitiba': [-25.4278168, -49.272201],\n",
       " 'Bairro Centro Civico, Curitiba': [-25.4175207, -49.268557],\n",
       " 'Bairro Vila Madalena, São Paulo': [-23.5514369, -46.6975656],\n",
       " 'Paulista, São Paulo': [-23.5613545, -46.6564943],\n",
       " 'Bairro Pinheiros, São Paulo': [-23.5635787, -46.6916068],\n",
       " 'Bairro Centro, São Paulo': [-23.5406338, -46.6320967],\n",
       " 'Ibirapuera, São Paulo': [-23.5836023, -46.6644988]}"
      ]
     },
     "execution_count": 22,
     "metadata": {},
     "output_type": "execute_result"
    }
   ],
   "source": [
    "dado2"
   ]
  },
  {
   "cell_type": "code",
   "execution_count": 23,
   "metadata": {},
   "outputs": [],
   "source": [
    "types=[\"bus_station\",\"subway_station\",\"train_station\",\"bakery\",\"drugstore\",\"gym\",\"liquor_store\",\"museum\",\"night_club\",\"restaurant\",\"shopping_mall\",\"supermarket\",\"tourist_attraction\"]"
   ]
  },
  {
   "cell_type": "code",
   "execution_count": 24,
   "metadata": {},
   "outputs": [],
   "source": [
    "client = googlemaps.Client(apikey)\n",
    "radius = 1500\n",
    "language = \"pt-BR\"\n",
    "region = \"BR\"\n",
    "location1 =[]\n",
    "type1 =\"\"\n",
    "dados=[]\n",
    "for i in bairros:\n",
    "    location1 = dado2[i]\n",
    "    \n",
    "    for element in types:\n",
    "        type1 = element\n",
    "        solicitacao = client.places_nearby(location=location1, rank_by=\"distance\", type=type1)\n",
    "        solicitacao['nome_ponto'] = i\n",
    "        dados.append(solicitacao)"
   ]
  },
  {
   "cell_type": "code",
   "execution_count": 25,
   "metadata": {},
   "outputs": [],
   "source": [
    "lista_dicts = []\n",
    "for x in dados:\n",
    "    for y in x['results']:\n",
    "        y['nome_ponto'] = x['nome_ponto']\n",
    "        lista_dicts.append(y)"
   ]
  },
  {
   "cell_type": "code",
   "execution_count": 26,
   "metadata": {},
   "outputs": [],
   "source": [
    "df = pd.DataFrame(lista_dicts)"
   ]
  },
  {
   "cell_type": "code",
   "execution_count": 27,
   "metadata": {},
   "outputs": [],
   "source": [
    "for x in range(df['types'].shape[0]):\n",
    "    for tipo in df['types'][x]:\n",
    "        df.loc[x,tipo] = 1"
   ]
  },
  {
   "cell_type": "code",
   "execution_count": 28,
   "metadata": {},
   "outputs": [
    {
     "data": {
      "text/html": [
       "<div>\n",
       "<style scoped>\n",
       "    .dataframe tbody tr th:only-of-type {\n",
       "        vertical-align: middle;\n",
       "    }\n",
       "\n",
       "    .dataframe tbody tr th {\n",
       "        vertical-align: top;\n",
       "    }\n",
       "\n",
       "    .dataframe thead th {\n",
       "        text-align: right;\n",
       "    }\n",
       "</style>\n",
       "<table border=\"1\" class=\"dataframe\">\n",
       "  <thead>\n",
       "    <tr style=\"text-align: right;\">\n",
       "      <th></th>\n",
       "      <th>business_status</th>\n",
       "      <th>geometry</th>\n",
       "      <th>icon</th>\n",
       "      <th>icon_background_color</th>\n",
       "      <th>icon_mask_base_uri</th>\n",
       "      <th>name</th>\n",
       "      <th>photos</th>\n",
       "      <th>place_id</th>\n",
       "      <th>plus_code</th>\n",
       "      <th>rating</th>\n",
       "      <th>...</th>\n",
       "      <th>laundry</th>\n",
       "      <th>amusement_park</th>\n",
       "      <th>premise</th>\n",
       "      <th>general_contractor</th>\n",
       "      <th>hospital</th>\n",
       "      <th>bank</th>\n",
       "      <th>mosque</th>\n",
       "      <th>car_rental</th>\n",
       "      <th>dentist</th>\n",
       "      <th>real_estate_agency</th>\n",
       "    </tr>\n",
       "  </thead>\n",
       "  <tbody>\n",
       "    <tr>\n",
       "      <th>0</th>\n",
       "      <td>OPERATIONAL</td>\n",
       "      <td>{'location': {'lat': -27.5992912, 'lng': -48.5...</td>\n",
       "      <td>https://maps.gstatic.com/mapfiles/place_api/ic...</td>\n",
       "      <td>#10BDFF</td>\n",
       "      <td>https://maps.gstatic.com/mapfiles/place_api/ic...</td>\n",
       "      <td>Terminal Urbano Cidade de Florianópolis</td>\n",
       "      <td>[{'height': 4624, 'html_attributions': ['&lt;a hr...</td>\n",
       "      <td>ChIJu0b5EiU4J5URanhM6FIK7kA</td>\n",
       "      <td>{'compound_code': 'CF22+74 Florianópolis, Stat...</td>\n",
       "      <td>3.2</td>\n",
       "      <td>...</td>\n",
       "      <td>NaN</td>\n",
       "      <td>NaN</td>\n",
       "      <td>NaN</td>\n",
       "      <td>NaN</td>\n",
       "      <td>NaN</td>\n",
       "      <td>NaN</td>\n",
       "      <td>NaN</td>\n",
       "      <td>NaN</td>\n",
       "      <td>NaN</td>\n",
       "      <td>NaN</td>\n",
       "    </tr>\n",
       "    <tr>\n",
       "      <th>1</th>\n",
       "      <td>OPERATIONAL</td>\n",
       "      <td>{'location': {'lat': -27.5965266, 'lng': -48.5...</td>\n",
       "      <td>https://maps.gstatic.com/mapfiles/place_api/ic...</td>\n",
       "      <td>#10BDFF</td>\n",
       "      <td>https://maps.gstatic.com/mapfiles/place_api/ic...</td>\n",
       "      <td>Terminal Rodoviário Rita Maria</td>\n",
       "      <td>[{'height': 504, 'html_attributions': ['&lt;a hre...</td>\n",
       "      <td>ChIJRVyXoiA4J5URHnkmOvU5NVY</td>\n",
       "      <td>{'compound_code': 'CC3X+9X Centro, Florianópol...</td>\n",
       "      <td>2.8</td>\n",
       "      <td>...</td>\n",
       "      <td>NaN</td>\n",
       "      <td>NaN</td>\n",
       "      <td>NaN</td>\n",
       "      <td>NaN</td>\n",
       "      <td>NaN</td>\n",
       "      <td>NaN</td>\n",
       "      <td>NaN</td>\n",
       "      <td>NaN</td>\n",
       "      <td>NaN</td>\n",
       "      <td>NaN</td>\n",
       "    </tr>\n",
       "    <tr>\n",
       "      <th>2</th>\n",
       "      <td>OPERATIONAL</td>\n",
       "      <td>{'location': {'lat': -27.596466, 'lng': -48.55...</td>\n",
       "      <td>https://maps.gstatic.com/mapfiles/place_api/ic...</td>\n",
       "      <td>#10BDFF</td>\n",
       "      <td>https://maps.gstatic.com/mapfiles/place_api/ic...</td>\n",
       "      <td>Rua Francisco Tolentino, 390</td>\n",
       "      <td>NaN</td>\n",
       "      <td>ChIJm8inWiE4J5URa7Azj9xpFGo</td>\n",
       "      <td>{'compound_code': 'CC3W+C7 Florianópolis, Stat...</td>\n",
       "      <td>NaN</td>\n",
       "      <td>...</td>\n",
       "      <td>NaN</td>\n",
       "      <td>NaN</td>\n",
       "      <td>NaN</td>\n",
       "      <td>NaN</td>\n",
       "      <td>NaN</td>\n",
       "      <td>NaN</td>\n",
       "      <td>NaN</td>\n",
       "      <td>NaN</td>\n",
       "      <td>NaN</td>\n",
       "      <td>NaN</td>\n",
       "    </tr>\n",
       "    <tr>\n",
       "      <th>3</th>\n",
       "      <td>OPERATIONAL</td>\n",
       "      <td>{'location': {'lat': -27.5966, 'lng': -48.5549...</td>\n",
       "      <td>https://maps.gstatic.com/mapfiles/place_api/ic...</td>\n",
       "      <td>#10BDFF</td>\n",
       "      <td>https://maps.gstatic.com/mapfiles/place_api/ic...</td>\n",
       "      <td>Florianópolis</td>\n",
       "      <td>[{'height': 720, 'html_attributions': ['&lt;a hre...</td>\n",
       "      <td>ChIJ2-8ARiE4J5URnOD7mzp0ZQA</td>\n",
       "      <td>{'compound_code': 'CC3W+92 Florianópolis, Stat...</td>\n",
       "      <td>4.6</td>\n",
       "      <td>...</td>\n",
       "      <td>NaN</td>\n",
       "      <td>NaN</td>\n",
       "      <td>NaN</td>\n",
       "      <td>NaN</td>\n",
       "      <td>NaN</td>\n",
       "      <td>NaN</td>\n",
       "      <td>NaN</td>\n",
       "      <td>NaN</td>\n",
       "      <td>NaN</td>\n",
       "      <td>NaN</td>\n",
       "    </tr>\n",
       "    <tr>\n",
       "      <th>4</th>\n",
       "      <td>OPERATIONAL</td>\n",
       "      <td>{'location': {'lat': -27.5958278, 'lng': -48.5...</td>\n",
       "      <td>https://maps.gstatic.com/mapfiles/place_api/ic...</td>\n",
       "      <td>#10BDFF</td>\n",
       "      <td>https://maps.gstatic.com/mapfiles/place_api/ic...</td>\n",
       "      <td>Rua Francisco Tolentino, 540</td>\n",
       "      <td>NaN</td>\n",
       "      <td>ChIJFx2YGiE4J5URPmsFnnNWusk</td>\n",
       "      <td>{'compound_code': 'CC3V+MP Florianópolis, Stat...</td>\n",
       "      <td>NaN</td>\n",
       "      <td>...</td>\n",
       "      <td>NaN</td>\n",
       "      <td>NaN</td>\n",
       "      <td>NaN</td>\n",
       "      <td>NaN</td>\n",
       "      <td>NaN</td>\n",
       "      <td>NaN</td>\n",
       "      <td>NaN</td>\n",
       "      <td>NaN</td>\n",
       "      <td>NaN</td>\n",
       "      <td>NaN</td>\n",
       "    </tr>\n",
       "  </tbody>\n",
       "</table>\n",
       "<p>5 rows × 89 columns</p>\n",
       "</div>"
      ],
      "text/plain": [
       "  business_status                                           geometry  \\\n",
       "0     OPERATIONAL  {'location': {'lat': -27.5992912, 'lng': -48.5...   \n",
       "1     OPERATIONAL  {'location': {'lat': -27.5965266, 'lng': -48.5...   \n",
       "2     OPERATIONAL  {'location': {'lat': -27.596466, 'lng': -48.55...   \n",
       "3     OPERATIONAL  {'location': {'lat': -27.5966, 'lng': -48.5549...   \n",
       "4     OPERATIONAL  {'location': {'lat': -27.5958278, 'lng': -48.5...   \n",
       "\n",
       "                                                icon icon_background_color  \\\n",
       "0  https://maps.gstatic.com/mapfiles/place_api/ic...               #10BDFF   \n",
       "1  https://maps.gstatic.com/mapfiles/place_api/ic...               #10BDFF   \n",
       "2  https://maps.gstatic.com/mapfiles/place_api/ic...               #10BDFF   \n",
       "3  https://maps.gstatic.com/mapfiles/place_api/ic...               #10BDFF   \n",
       "4  https://maps.gstatic.com/mapfiles/place_api/ic...               #10BDFF   \n",
       "\n",
       "                                  icon_mask_base_uri  \\\n",
       "0  https://maps.gstatic.com/mapfiles/place_api/ic...   \n",
       "1  https://maps.gstatic.com/mapfiles/place_api/ic...   \n",
       "2  https://maps.gstatic.com/mapfiles/place_api/ic...   \n",
       "3  https://maps.gstatic.com/mapfiles/place_api/ic...   \n",
       "4  https://maps.gstatic.com/mapfiles/place_api/ic...   \n",
       "\n",
       "                                      name  \\\n",
       "0  Terminal Urbano Cidade de Florianópolis   \n",
       "1           Terminal Rodoviário Rita Maria   \n",
       "2             Rua Francisco Tolentino, 390   \n",
       "3                            Florianópolis   \n",
       "4             Rua Francisco Tolentino, 540   \n",
       "\n",
       "                                              photos  \\\n",
       "0  [{'height': 4624, 'html_attributions': ['<a hr...   \n",
       "1  [{'height': 504, 'html_attributions': ['<a hre...   \n",
       "2                                                NaN   \n",
       "3  [{'height': 720, 'html_attributions': ['<a hre...   \n",
       "4                                                NaN   \n",
       "\n",
       "                      place_id  \\\n",
       "0  ChIJu0b5EiU4J5URanhM6FIK7kA   \n",
       "1  ChIJRVyXoiA4J5URHnkmOvU5NVY   \n",
       "2  ChIJm8inWiE4J5URa7Azj9xpFGo   \n",
       "3  ChIJ2-8ARiE4J5URnOD7mzp0ZQA   \n",
       "4  ChIJFx2YGiE4J5URPmsFnnNWusk   \n",
       "\n",
       "                                           plus_code  rating  ... laundry  \\\n",
       "0  {'compound_code': 'CF22+74 Florianópolis, Stat...     3.2  ...     NaN   \n",
       "1  {'compound_code': 'CC3X+9X Centro, Florianópol...     2.8  ...     NaN   \n",
       "2  {'compound_code': 'CC3W+C7 Florianópolis, Stat...     NaN  ...     NaN   \n",
       "3  {'compound_code': 'CC3W+92 Florianópolis, Stat...     4.6  ...     NaN   \n",
       "4  {'compound_code': 'CC3V+MP Florianópolis, Stat...     NaN  ...     NaN   \n",
       "\n",
       "  amusement_park premise  general_contractor hospital bank mosque  car_rental  \\\n",
       "0            NaN     NaN                 NaN      NaN  NaN    NaN         NaN   \n",
       "1            NaN     NaN                 NaN      NaN  NaN    NaN         NaN   \n",
       "2            NaN     NaN                 NaN      NaN  NaN    NaN         NaN   \n",
       "3            NaN     NaN                 NaN      NaN  NaN    NaN         NaN   \n",
       "4            NaN     NaN                 NaN      NaN  NaN    NaN         NaN   \n",
       "\n",
       "  dentist  real_estate_agency  \n",
       "0     NaN                 NaN  \n",
       "1     NaN                 NaN  \n",
       "2     NaN                 NaN  \n",
       "3     NaN                 NaN  \n",
       "4     NaN                 NaN  \n",
       "\n",
       "[5 rows x 89 columns]"
      ]
     },
     "execution_count": 28,
     "metadata": {},
     "output_type": "execute_result"
    }
   ],
   "source": [
    "df.head()"
   ]
  },
  {
   "cell_type": "code",
   "execution_count": 29,
   "metadata": {},
   "outputs": [],
   "source": [
    "df.to_csv(\"dataframeok.csv\")"
   ]
  },
  {
   "cell_type": "code",
   "execution_count": null,
   "metadata": {},
   "outputs": [],
   "source": []
  }
 ],
 "metadata": {
  "kernelspec": {
   "display_name": "Python 3",
   "language": "python",
   "name": "python3"
  },
  "language_info": {
   "codemirror_mode": {
    "name": "ipython",
    "version": 3
   },
   "file_extension": ".py",
   "mimetype": "text/x-python",
   "name": "python",
   "nbconvert_exporter": "python",
   "pygments_lexer": "ipython3",
   "version": "3.7.6"
  }
 },
 "nbformat": 4,
 "nbformat_minor": 4
}
